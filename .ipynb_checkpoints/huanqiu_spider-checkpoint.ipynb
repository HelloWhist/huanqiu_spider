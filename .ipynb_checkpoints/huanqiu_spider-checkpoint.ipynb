{
 "cells": [
  {
   "cell_type": "code",
   "execution_count": 126,
   "metadata": {},
   "outputs": [],
   "source": [
    "import requests\n",
    "from bs4 import BeautifulSoup as bs\n",
    "\n",
    "def get_content(url):\n",
    "    data = {}\n",
    "    r = requests.get(url)\n",
    "    r.encoding = 'utf-8'\n",
    "    soup = bs(r.text,'lxml')\n",
    "    title = soup.title.string.strip(' _军事_环球网') # title\n",
    "    kw = soup.find_all('meta')[2]['content']  # keywords\n",
    "    des = soup.find_all('meta')[3]['content']  # description\n",
    "    source = soup.select('.l_a > .la_tool > .la_t_b > a')[0].string\n",
    "    time = soup.select('.l_a > .la_tool > .la_t_a')[0].string\n",
    "    data = {\n",
    "        'url':url,\n",
    "        'title':title,\n",
    "        'keywords':kw,\n",
    "        'description':des,\n",
    "        'source':source,\n",
    "        'time':time\n",
    "    }\n",
    "    print(data)\n",
    "    paras = soup.select('.l_a > .la_con')[0].find_all('p')\n",
    "    fo = open('news.txt',\"w+\")\n",
    "    for para in paras:\n",
    "        if len(para) > 0 and para.string != None:\n",
    "            fo.writelines(para.string.strip() + \"\\n\")\n",
    "    fo.close()\n",
    "    \n",
    "    try:\n",
    "        img_url = soup.select('.l_a > .la_con > p > img')[0]['src']\n",
    "        img_res = requests.get(img_url,stream=True)\n",
    "        img_name = \"news.jpg\"\n",
    "        with open(img_name,\"wb\") as f:\n",
    "            for chunk in img_res:\n",
    "                f.write(chunk)\n",
    "    except Exception:\n",
    "        print(\"This article doesn't have pictures.\")\n",
    "        # print(Exception) <class 'Exception'>\n",
    "        \n",
    "if __name__ == \"__main__\":\n",
    "    get_content()"
   ]
  },
  {
   "cell_type": "code",
   "execution_count": 127,
   "metadata": {
    "scrolled": true
   },
   "outputs": [
    {
     "name": "stdout",
     "output_type": "stream",
     "text": [
      "{'url': 'http://mil.huanqiu.com/strategysituation/2018-04/11819137.html', 'title': '时代呼唤中国谋划构建自己的“大棋局”', 'keywords': '中国,大棋局,五位一体,中国崛起', 'description': '棋局日新，棋手也由以往一家变为多家。时代呼唤中国制定自己的“大棋局”。', 'source': '环球时报', 'time': '2018-04-10 11:33'}\n"
     ]
    }
   ],
   "source": [
    "get_content('http://mil.huanqiu.com/strategysituation/2018-04/11819137.html')"
   ]
  }
 ],
 "metadata": {
  "kernelspec": {
   "display_name": "Python 3",
   "language": "python",
   "name": "python3"
  },
  "language_info": {
   "codemirror_mode": {
    "name": "ipython",
    "version": 3
   },
   "file_extension": ".py",
   "mimetype": "text/x-python",
   "name": "python",
   "nbconvert_exporter": "python",
   "pygments_lexer": "ipython3",
   "version": "3.6.4"
  }
 },
 "nbformat": 4,
 "nbformat_minor": 2
}
