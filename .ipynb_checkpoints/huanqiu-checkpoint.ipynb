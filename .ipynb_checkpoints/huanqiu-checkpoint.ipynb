{
 "cells": [
  {
   "cell_type": "code",
   "execution_count": 4,
   "metadata": {},
   "outputs": [],
   "source": [
    "import os\n",
    "\n",
    "import requests\n",
    "from bs4 import BeautifulSoup as bs"
   ]
  },
  {
   "cell_type": "code",
   "execution_count": 5,
   "metadata": {},
   "outputs": [
    {
     "ename": "NameError",
     "evalue": "name 'DATA_DIR' is not defined",
     "output_type": "error",
     "traceback": [
      "\u001b[0;31m---------------------------------------------------------------------------\u001b[0m",
      "\u001b[0;31mNameError\u001b[0m                                 Traceback (most recent call last)",
      "\u001b[0;32m<ipython-input-5-b95fd6cc43e3>\u001b[0m in \u001b[0;36m<module>\u001b[0;34m()\u001b[0m\n\u001b[1;32m      4\u001b[0m \u001b[0mIMG_URL\u001b[0m \u001b[0;34m=\u001b[0m \u001b[0;34m\"http://localhost/img/%s\"\u001b[0m\u001b[0;34m\u001b[0m\u001b[0m\n\u001b[1;32m      5\u001b[0m \u001b[0;34m\u001b[0m\u001b[0m\n\u001b[0;32m----> 6\u001b[0;31m \u001b[0;32mif\u001b[0m \u001b[0;32mnot\u001b[0m \u001b[0mos\u001b[0m\u001b[0;34m.\u001b[0m\u001b[0mpath\u001b[0m\u001b[0;34m.\u001b[0m\u001b[0mexists\u001b[0m\u001b[0;34m(\u001b[0m\u001b[0mDATA_DIR\u001b[0m\u001b[0;34m)\u001b[0m\u001b[0;34m:\u001b[0m\u001b[0;34m\u001b[0m\u001b[0m\n\u001b[0m\u001b[1;32m      7\u001b[0m     \u001b[0mos\u001b[0m\u001b[0;34m.\u001b[0m\u001b[0mmkdir\u001b[0m\u001b[0;34m(\u001b[0m\u001b[0mDATA_DIR\u001b[0m\u001b[0;34m)\u001b[0m\u001b[0;34m\u001b[0m\u001b[0m\n",
      "\u001b[0;31mNameError\u001b[0m: name 'DATA_DIR' is not defined"
     ]
    }
   ],
   "source": [
    "TEST_URL = \"http://mil.huanqiu.com/world/2018-04/11850420.html\"\n",
    "IMG_DIR = \"./img/\"\n",
    "\n",
    "IMG_URL = \"http://localhost/img/%s\"\n",
    "\n",
    "if not os.path.exists(IGM_DIR):\n",
    "    os.mkdir(IMG_DIR)"
   ]
  },
  {
   "cell_type": "code",
   "execution_count": 2,
   "metadata": {},
   "outputs": [
    {
     "ename": "NameError",
     "evalue": "name 'requests' is not defined",
     "output_type": "error",
     "traceback": [
      "\u001b[0;31m---------------------------------------------------------------------------\u001b[0m",
      "\u001b[0;31mNameError\u001b[0m                                 Traceback (most recent call last)",
      "\u001b[0;32m<ipython-input-2-119eb42c6980>\u001b[0m in \u001b[0;36m<module>\u001b[0;34m()\u001b[0m\n\u001b[0;32m----> 1\u001b[0;31m \u001b[0mr\u001b[0m \u001b[0;34m=\u001b[0m \u001b[0mrequests\u001b[0m\u001b[0;34m.\u001b[0m\u001b[0mget\u001b[0m\u001b[0;34m(\u001b[0m\u001b[0mTEST_URL\u001b[0m\u001b[0;34m)\u001b[0m\u001b[0;34m\u001b[0m\u001b[0m\n\u001b[0m\u001b[1;32m      2\u001b[0m \u001b[0mr\u001b[0m\u001b[0;34m.\u001b[0m\u001b[0mencoding\u001b[0m \u001b[0;34m=\u001b[0m \u001b[0;34m'utf-8'\u001b[0m\u001b[0;34m\u001b[0m\u001b[0m\n\u001b[1;32m      3\u001b[0m \u001b[0msoup\u001b[0m \u001b[0;34m=\u001b[0m \u001b[0mbs\u001b[0m\u001b[0;34m(\u001b[0m\u001b[0mr\u001b[0m\u001b[0;34m.\u001b[0m\u001b[0mtext\u001b[0m\u001b[0;34m,\u001b[0m \u001b[0;34m'lxml'\u001b[0m\u001b[0;34m)\u001b[0m\u001b[0;34m\u001b[0m\u001b[0m\n",
      "\u001b[0;31mNameError\u001b[0m: name 'requests' is not defined"
     ]
    }
   ],
   "source": [
    "r = requests.get(TEST_URL)\n",
    "r.encoding = 'utf-8'\n",
    "soup = bs(r.text, 'lxml')"
   ]
  },
  {
   "cell_type": "code",
   "execution_count": 1,
   "metadata": {},
   "outputs": [
    {
     "ename": "NameError",
     "evalue": "name 'soup' is not defined",
     "output_type": "error",
     "traceback": [
      "\u001b[0;31m---------------------------------------------------------------------------\u001b[0m",
      "\u001b[0;31mNameError\u001b[0m                                 Traceback (most recent call last)",
      "\u001b[0;32m<ipython-input-1-d3d896fb9724>\u001b[0m in \u001b[0;36m<module>\u001b[0;34m()\u001b[0m\n\u001b[0;32m----> 1\u001b[0;31m \u001b[0mtitle\u001b[0m \u001b[0;34m=\u001b[0m \u001b[0msoup\u001b[0m\u001b[0;34m.\u001b[0m\u001b[0mselect\u001b[0m\u001b[0;34m(\u001b[0m\u001b[0;34m'.l_a > h1'\u001b[0m\u001b[0;34m)\u001b[0m\u001b[0;34m\u001b[0m\u001b[0m\n\u001b[0m\u001b[1;32m      2\u001b[0m \u001b[0mtitle\u001b[0m\u001b[0;34m\u001b[0m\u001b[0m\n",
      "\u001b[0;31mNameError\u001b[0m: name 'soup' is not defined"
     ]
    }
   ],
   "source": [
    "title = soup.select('.l_a > h1')\n",
    "title"
   ]
  },
  {
   "cell_type": "code",
   "execution_count": 85,
   "metadata": {
    "scrolled": true
   },
   "outputs": [],
   "source": [
    "\n",
    "body_content = soup.find('div', {'class': 'la_con'})\n",
    "p_list = []\n",
    "for i, p in enumerate(body_content.find_all('p')):\n",
    "#     print(p)\n",
    "    if p.attrs is not None:\n",
    "        del p.attrs\n",
    "\n",
    "    img_lists = p.find_all('img')\n",
    "    for img in img_lists:\n",
    "        img_url = img[\"src\"]\n",
    "        img_name = img_url.split(\"/\")[-1]\n",
    "        nr = requests.get(img_url, stream=True)\n",
    "        with open(os.path.join(IMG_DIR, img_name), \"wb\") as f:\n",
    "            i = 0\n",
    "            for chunk in nr.iter_content(chunk_size=512):\n",
    "                i += 1\n",
    "                f.write(chunk)\n",
    "        img[\"src\"] = IMG_URL % img_name\n",
    "    p_list.append(str(p))\n",
    "content = \"\\n\".join(p_list)"
   ]
  },
  {
   "cell_type": "code",
   "execution_count": 86,
   "metadata": {
    "scrolled": false
   },
   "outputs": [
    {
     "name": "stdout",
     "output_type": "stream",
     "text": [
      "<p>　　原标题：韩国炸锅!官方首次开口：世越号或遭受潜艇撞击</p>\n",
      "<p><img src=\"http://localhost/img/20180414074702942.jpg\"/></p>\n",
      "<p>倾覆的世越号客轮</p>\n",
      "<p>　　海外网4月14日电 今年4月16日，是韩国“世越号”客轮船难四周年纪念日。遗憾的是，这起酿成300多人遇难的惨剧，至今也没查清具体的事故原因。不过，最近调查出现一线转机，引发韩国舆论热议。</p>\n",
      "<p><img src=\"http://localhost/img/20180414074702718.jpg\"/></p>\n",
      "<p>13日，世越号船体调查委员会举行会议</p>\n",
      "<p>　　据韩联社等报道，13日，世越号船体调查委员会开会指出，不排除客轮曾遭受潜艇等外部物体冲击，并计划照此方向开展调查。他们还决定设立特别小组，专门负责此事。不过负责人强调，提出“外力冲击”说，并非意味着这已成定论，而是扩展思路的需要。</p>\n",
      "<p>　　值得注意的是，早前有韩媒和学者曾提出过“潜艇撞击”说，但被上届政府的军方一口否认。由此，事故原因的调查方向，只限于研究超载、船体本身结构缺陷等。</p>\n",
      "<p><img src=\"http://localhost/img/20180414074702508.jpg\"/></p>\n",
      "<p>世越号船体残骸</p>\n",
      "<p>　　委员会表示，“外力撞击”说的依据是，世越号左舷的减摇鳍(减摇装置)偏离50.9度，远远大于最大运转角25度。而且，减摇鳍表面还出现划痕，或因遭受强大外力所致。上述迹象，虽然有可能跟客轮倾覆时触及海底有关，但不排除曾被潜艇等外部物体撞击。</p>\n",
      "<p><img src=\"http://localhost/img/20180414074702816.jpg\"/></p>\n",
      "<p>世越号船体内的汽车残骸</p>\n",
      "<p>　　委员会还对船体内的汽车黑匣子进行了调查，根据其拍摄影像，事发时汽车的晃动程度，显示船体遭受50多倍于正常旋转时的冲击力。这也被视为“外力撞击”说的一大依据。</p>\n",
      "<p><img src=\"http://localhost/img/20180414074702929.jpg\"/></p>\n",
      "<p>朴槿惠哀悼世越号遇难者</p>\n",
      "<p>　　有调查官员说，“减摇鳍被撞的话，很可能是来自水中的物体，并且与世越号方向相同，速度很快。可能是潜艇。”</p>\n",
      "<p>　　官方团体“外力撞击”说一出，立即引发网络热议。既有网友提出质疑，也有网友从多种角度分析，欲证实沉船与遭受潜艇撞击有关。还有网友呼吁政府坦诚公开雷达影像等资料，让真相得以大白。</p>\n",
      "<p>　　韩国教授：世越号后跟有巨大物体 或为潜艇</p>\n",
      "<p>　　2016年12月份，韩国梨花女子大学纳米科学系教授金官默曾表示，从雷达影像分析看，世越号倾覆，或许是因为遭受了潜艇的撞击。</p>\n",
      "<p>　　金官默说，从雷达影像上可以看到，世越号后面还有个巨大的物体，当时一直被认为是集装箱。但是经过长时间的调查和研究发现，那个巨大物体是集装箱的可能性很小，应该是一艘潜艇。</p>\n",
      "<p><img src=\"http://localhost/img/20180414074702435.jpg\"/></p>\n",
      "<p>世越号船体残骸</p>\n",
      "<p>　　他还说，首先，该物体体积很大，远远超过集装箱的体积。而且，世越号在沉船之前已经完全失去动力，随洋流漂动。但是后面的物体却与失去动力的世越号漂流方向不一致，因此，该物体应该是具有动力的。</p>\n",
      "<p>　　其次，从当时的雷达影像来看，世越号有过急速转弯。按照一般的物理常识分析，如此巨大的轮船以如此小的半径转弯，实在让人难以理解。所以，唯一可能的解释就是遭受了剧烈的撞击。该教授还表示，除此以外还有许多证据可以证明该物体绝对不是集装箱，而是一艘潜水艇。</p>\n",
      "<p><img src=\"http://localhost/img/20180414074702332.png\"/></p>\n",
      "<p>船难发生后，船长李某撇下乘客仓皇逃出</p>\n",
      "<p>　　就在同一月份，有一部纪录片“世越X”出现在韩国社交视频网站，其主要内容为揭露世越号沉船的真正原因，指出“肇事者”或为韩国海军潜艇，并呼吁：“只有军方公开其雷达影像资料，沉船谜团才能解开。”</p>\n",
      "<p>　　不过，韩国国防部随即否认称，事发海域水深为37米，商船和渔船往来频繁，且水流急速，并非潜艇活动区域。而且事发当天，海军并没有在事发海域附近进行作战演练。国防部还强调，对于诋毁和诽谤海军的行为，将通过法律途径严惩造谣者。</p>\n"
     ]
    }
   ],
   "source": [
    "print(content)"
   ]
  }
 ],
 "metadata": {
  "kernelspec": {
   "display_name": "Python 3",
   "language": "python",
   "name": "python3"
  },
  "language_info": {
   "codemirror_mode": {
    "name": "ipython",
    "version": 3
   },
   "file_extension": ".py",
   "mimetype": "text/x-python",
   "name": "python",
   "nbconvert_exporter": "python",
   "pygments_lexer": "ipython3",
   "version": "3.6.4"
  }
 },
 "nbformat": 4,
 "nbformat_minor": 2
}
