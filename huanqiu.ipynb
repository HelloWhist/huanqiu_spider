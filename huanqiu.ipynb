{
 "cells": [
  {
   "cell_type": "code",
   "execution_count": 58,
   "metadata": {},
   "outputs": [],
   "source": [
    "import os\n",
    "\n",
    "import requests\n",
    "from bs4 import BeautifulSoup as bs"
   ]
  },
  {
   "cell_type": "code",
   "execution_count": 60,
   "metadata": {},
   "outputs": [],
   "source": [
    "TEST_URL = \"http://mil.huanqiu.com/world/2018-04/11863013.html\""
   ]
  },
  {
   "cell_type": "code",
   "execution_count": 61,
   "metadata": {},
   "outputs": [],
   "source": [
    "r = requests.get(TEST_URL)\n",
    "r.encoding = 'utf-8'\n",
    "soup = bs(r.text, 'lxml')"
   ]
  },
  {
   "cell_type": "code",
   "execution_count": 68,
   "metadata": {},
   "outputs": [
    {
     "data": {
      "text/plain": [
       "'环球时报'"
      ]
     },
     "execution_count": 68,
     "metadata": {},
     "output_type": "execute_result"
    }
   ],
   "source": [
    "source = soup.select('.l_a > div.la_tool > span.la_t_b > a')[0].string.strip()\n",
    "source"
   ]
  },
  {
   "cell_type": "code",
   "execution_count": 129,
   "metadata": {
    "scrolled": true
   },
   "outputs": [
    {
     "data": {
      "text/plain": [
       "'<p>\\u3000\\u3000【环球网军事4月16日报道】俄罗斯外长拉夫罗夫14日表示，根据瑞士施皮茨市实验室提供的信息，俄前间谍斯克里帕尔父女中毒案中使用的不是“诺维乔克”毒剂，而是“BZ毒剂”。这种毒剂美国、英国和其他北约国家军队都曾装备过，但俄罗斯并不生产。</p>\\n<p>\\u3000\\u3000据俄罗斯《消息报》15日报道，拉夫罗夫表示，联合国禁止化学武器组织此前关于中毒案的报告既没有指向俄罗斯，也没有证实该案中使用了“诺维乔克”神经毒剂。拉夫罗夫说：“我们向禁止化武组织提问，为什么施皮茨实验室专家得出的结论没有在最终的文件中出现？”禁止化学武器组织专家12日证实斯克里帕尔父女系毒剂中毒，但没有公布毒剂的名称，毒剂名称标注在只有禁化武组织成员国才能收到的报告机密部分内容里。英国此前坚称，导致斯克里帕尔中毒的是俄罗斯拥有的“诺维乔克”神经毒剂。</p>\\n<p>\\u3000\\u3000俄新社15日报道称，瑞士施皮茨市实验室拒绝对拉夫罗夫的上述说法发表评论，并称，只有禁止化学武器组织才能就此做出评论。“但是我们可以重复10天前所说的话：我们毫不怀疑，伦敦实验室确定斯克里帕尔中的是‘诺维乔克’毒剂。我们检验标准非常严格，结论是完全可以相信的。”</p>\\n<p>\\u3000\\u3000针对瑞士施皮茨市实验室未确认中毒案使用的是BZ毒剂的说法，俄罗斯化学专家乌特金称，在禁止化学武器组织的公开报告中并没有提到“诺维乔克”或“BZ毒剂”，但在报告的秘密部分详细介绍了“BZ毒剂”的信息。因此，没有任何理由怀疑拉夫罗夫所说的话。▲ (柳玉鹏 成实)\\r\\n                    \\n\\n</p>'"
      ]
     },
     "execution_count": 129,
     "metadata": {},
     "output_type": "execute_result"
    }
   ],
   "source": [
    "body_content = soup.find('div', {'class': 'la_con'})\n",
    "p_list = []\n",
    "for p in body_content.find_all('p'):\n",
    "    if p.attrs is not None:\n",
    "        del p.attrs\n",
    "    img_lists = p.find_all('img')\n",
    "    for img in img_lists:\n",
    "        img_url = img[\"src\"]\n",
    "        img_name = img_url.split(\"/\")[-1]\n",
    "        img_res = requests.get(img_url, stream=True)\n",
    "        with open(os.path.join(IMG_DIR, img_name), \"wb\") as f:\n",
    "            for chunk in img_res.iter_content(chunk_size=512):\n",
    "                f.write(chunk)\n",
    "        img[\"src\"] = IMG_URL % img_name\n",
    "    p_list.append(str(p))\n",
    "content = \"\\n\".join(p_list)\n",
    "content"
   ]
  },
  {
   "cell_type": "code",
   "execution_count": 134,
   "metadata": {},
   "outputs": [
    {
     "data": {
      "text/plain": [
       "<html><body><p>　　针对瑞士施皮茨市实验室未确认中毒案使用的是BZ毒剂的说法，俄罗斯化学专家乌特金称，在禁止化学武器组织的公开报告中并没有提到“诺维乔克”或“BZ毒剂”，但在报告的秘密部分详细介绍了“BZ毒剂”的信息。因此，没有任何理由怀疑拉夫罗夫所说的话。▲ (柳玉鹏 成实)\n",
       "                    <!-- Ad Survey 广告位代码  文章页-视频广告位new-->\n",
       "\n",
       "</p>\n",
       "</body></html>"
      ]
     },
     "execution_count": 134,
     "metadata": {},
     "output_type": "execute_result"
    }
   ],
   "source": [
    "from bs4 import Comment\n",
    "html = '''\n",
    "<p>　　针对瑞士施皮茨市实验室未确认中毒案使用的是BZ毒剂的说法，俄罗斯化学专家乌特金称，在禁止化学武器组织的公开报告中并没有提到“诺维乔克”或“BZ毒剂”，但在报告的秘密部分详细介绍了“BZ毒剂”的信息。因此，没有任何理由怀疑拉夫罗夫所说的话。▲ (柳玉鹏 成实)\n",
    "                    <!-- Ad Survey 广告位代码  文章页-视频广告位new-->\n",
    "<script type=\"text/javascript\">AD_SURVEY_Add_AdPos(\"7000531\");</script>\n",
    "</p>\n",
    "'''\n",
    "soup = bs(html,'lxml')\n",
    "[s.extract() for s in soup('script')]  # 去除script"
   ]
  },
  {
   "cell_type": "code",
   "execution_count": null,
   "metadata": {},
   "outputs": [],
   "source": []
  },
  {
   "cell_type": "code",
   "execution_count": 139,
   "metadata": {},
   "outputs": [
    {
     "data": {
      "text/plain": [
       "<html><body><p>　　针对瑞士施皮茨市实验室未确认中毒案使用的是BZ毒剂的说法，俄罗斯化学专家乌特金称，在禁止化学武器组织的公开报告中并没有提到“诺维乔克”或“BZ毒剂”，但在报告的秘密部分详细介绍了“BZ毒剂”的信息。因此，没有任何理由怀疑拉夫罗夫所说的话。▲ (柳玉鹏 成实)\n",
       "                    \n",
       "\n",
       "</p>\n",
       "</body></html>"
      ]
     },
     "execution_count": 139,
     "metadata": {},
     "output_type": "execute_result"
    }
   ],
   "source": [
    "for element in soup(text = lambda text: isinstance(text,Comment)):\n",
    "    element.extract()\n",
    "soup"
   ]
  },
  {
   "cell_type": "code",
   "execution_count": null,
   "metadata": {},
   "outputs": [],
   "source": []
  }
 ],
 "metadata": {
  "kernelspec": {
   "display_name": "Python 3",
   "language": "python",
   "name": "python3"
  },
  "language_info": {
   "codemirror_mode": {
    "name": "ipython",
    "version": 3
   },
   "file_extension": ".py",
   "mimetype": "text/x-python",
   "name": "python",
   "nbconvert_exporter": "python",
   "pygments_lexer": "ipython3",
   "version": "3.6.4"
  }
 },
 "nbformat": 4,
 "nbformat_minor": 2
}
